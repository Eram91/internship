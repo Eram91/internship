{
 "cells": [
  {
   "cell_type": "code",
   "execution_count": 1,
   "id": "cc5fe882",
   "metadata": {},
   "outputs": [
    {
     "name": "stdout",
     "output_type": "stream",
     "text": [
      "Defaulting to user installation because normal site-packages is not writeable\n",
      "Requirement already satisfied: selenium in c:\\users\\eram khan\\appdata\\roaming\\python\\python310\\site-packages (4.12.0)\n",
      "Requirement already satisfied: trio-websocket~=0.9 in c:\\users\\eram khan\\appdata\\roaming\\python\\python310\\site-packages (from selenium) (0.10.4)\n",
      "Requirement already satisfied: certifi>=2021.10.8 in c:\\programdata\\anaconda3\\lib\\site-packages (from selenium) (2022.12.7)\n",
      "Requirement already satisfied: trio~=0.17 in c:\\users\\eram khan\\appdata\\roaming\\python\\python310\\site-packages (from selenium) (0.22.2)\n",
      "Requirement already satisfied: urllib3[socks]<3,>=1.26 in c:\\programdata\\anaconda3\\lib\\site-packages (from selenium) (1.26.14)\n",
      "Requirement already satisfied: sniffio in c:\\programdata\\anaconda3\\lib\\site-packages (from trio~=0.17->selenium) (1.2.0)\n",
      "Requirement already satisfied: attrs>=20.1.0 in c:\\programdata\\anaconda3\\lib\\site-packages (from trio~=0.17->selenium) (22.1.0)\n",
      "Requirement already satisfied: exceptiongroup>=1.0.0rc9 in c:\\users\\eram khan\\appdata\\roaming\\python\\python310\\site-packages (from trio~=0.17->selenium) (1.1.3)\n",
      "Requirement already satisfied: idna in c:\\programdata\\anaconda3\\lib\\site-packages (from trio~=0.17->selenium) (3.4)\n",
      "Requirement already satisfied: outcome in c:\\users\\eram khan\\appdata\\roaming\\python\\python310\\site-packages (from trio~=0.17->selenium) (1.2.0)\n",
      "Requirement already satisfied: sortedcontainers in c:\\programdata\\anaconda3\\lib\\site-packages (from trio~=0.17->selenium) (2.4.0)\n",
      "Requirement already satisfied: cffi>=1.14 in c:\\programdata\\anaconda3\\lib\\site-packages (from trio~=0.17->selenium) (1.15.1)\n",
      "Requirement already satisfied: wsproto>=0.14 in c:\\users\\eram khan\\appdata\\roaming\\python\\python310\\site-packages (from trio-websocket~=0.9->selenium) (1.2.0)\n",
      "Requirement already satisfied: PySocks!=1.5.7,<2.0,>=1.5.6 in c:\\programdata\\anaconda3\\lib\\site-packages (from urllib3[socks]<3,>=1.26->selenium) (1.7.1)\n",
      "Requirement already satisfied: pycparser in c:\\programdata\\anaconda3\\lib\\site-packages (from cffi>=1.14->trio~=0.17->selenium) (2.21)\n",
      "Requirement already satisfied: h11<1,>=0.9.0 in c:\\users\\eram khan\\appdata\\roaming\\python\\python310\\site-packages (from wsproto>=0.14->trio-websocket~=0.9->selenium) (0.14.0)\n"
     ]
    }
   ],
   "source": [
    "! pip install selenium"
   ]
  },
  {
   "cell_type": "code",
   "execution_count": 5,
   "id": "c4ceb861",
   "metadata": {},
   "outputs": [],
   "source": [
    "import selenium\n",
    "import pandas as pd\n",
    "from selenium import webdriver\n",
    "import warnings\n",
    "warnings.filterwarnings('ignore')\n",
    "from selenium.webdriver.common.by import By\n",
    "import time"
   ]
  },
  {
   "cell_type": "code",
   "execution_count": 3,
   "id": "2ac706f6",
   "metadata": {},
   "outputs": [],
   "source": [
    "#1. PYTHON PROGRAM TO SCRAPE DATA FOR DATA ANALYST IN BANGALORE\n",
    "\n",
    "#opening webpage on automated chrome browser\n",
    "driver = webdriver.Chrome()\n",
    "driver.get(\"https://www.shine.com/\")"
   ]
  },
  {
   "cell_type": "code",
   "execution_count": 8,
   "id": "e54363bf",
   "metadata": {},
   "outputs": [],
   "source": [
    "#click on search button to open next search window\n",
    "\n",
    "search=driver.find_element(By.CLASS_NAME,\"SearchBarRight\")\n",
    "search.click()"
   ]
  },
  {
   "cell_type": "code",
   "execution_count": 9,
   "id": "93c457ee",
   "metadata": {},
   "outputs": [],
   "source": [
    "#entering job position 'Data Analyst' and location 'Bangalore' in respective fields\n",
    "\n",
    "designation=driver.find_element(By.CLASS_NAME,\"form-control\")\n",
    "designation.send_keys('Data Analyst')"
   ]
  },
  {
   "cell_type": "code",
   "execution_count": 10,
   "id": "b928c7c4",
   "metadata": {},
   "outputs": [],
   "source": [
    "location=driver.find_element(By.XPATH,\"/html/body/div[1]/div[4]/div/div[2]/div[2]/div/form/div/div[1]/ul/li[2]/div/input\")\n",
    "location.send_keys('Bangalore')"
   ]
  },
  {
   "cell_type": "code",
   "execution_count": 11,
   "id": "376f3bd2",
   "metadata": {},
   "outputs": [],
   "source": [
    "#click search button\n",
    "    \n",
    "search_button= driver.find_element(By.CLASS_NAME,\"searchForm_btnWrap__Cb75F\")\n",
    "search_button.click()"
   ]
  },
  {
   "cell_type": "code",
   "execution_count": 12,
   "id": "c7c3c739",
   "metadata": {},
   "outputs": [],
   "source": [
    "job_title=[]\n",
    "job_location=[]\n",
    "company_name=[]\n",
    "experience_required=[]"
   ]
  },
  {
   "cell_type": "code",
   "execution_count": null,
   "id": "53dfe91e",
   "metadata": {},
   "outputs": [],
   "source": [
    "#scrape the 'job-title' data\n",
    "title_tags=driver.find_elements(By.XPATH,'//h2[@itemprop=\"name\"]')\n",
    "title_tags"
   ]
  },
  {
   "cell_type": "code",
   "execution_count": 24,
   "id": "b57ef3a0",
   "metadata": {},
   "outputs": [
    {
     "data": {
      "text/plain": [
       "['Technical Data Analyst',\n",
       " 'opening data analyst -Bangalore',\n",
       " 'Data Entry Operator(data analyst work) REMOTE WORK',\n",
       " 'Hiring For Data Analyst',\n",
       " 'Senior Data Analyst',\n",
       " 'Data Analyst',\n",
       " 'Mobility Data Analyst - IN/MKR',\n",
       " 'Senior Data Analyst',\n",
       " 'hiring for data entry analyst ( position data entry ) w ...',\n",
       " 'hiring for data entry analyst ( position data entry ) w ...']"
      ]
     },
     "execution_count": 24,
     "metadata": {},
     "output_type": "execute_result"
    }
   ],
   "source": [
    "#extract the text\n",
    "job_titles=[]\n",
    "for i in title_tags:\n",
    "    if i.text is None:\n",
    "        job_titles.append('Not')\n",
    "    else:\n",
    "        job_titles.append(i.text)\n",
    "job_titles[:10]"
   ]
  },
  {
   "cell_type": "code",
   "execution_count": null,
   "id": "fd75131b",
   "metadata": {},
   "outputs": [],
   "source": [
    "#scrape the data\n",
    "location_tags=driver.find_elements(By.XPATH,'//div[@class=\" jobCard_jobCard_lists_item__YxRkV jobCard_locationIcon__zrWt2\"]')\n",
    "location_tags"
   ]
  },
  {
   "cell_type": "code",
   "execution_count": 29,
   "id": "26a470cb",
   "metadata": {},
   "outputs": [
    {
     "data": {
      "text/plain": [
       "['Bangalore\\n+9',\n",
       " 'Bangalore',\n",
       " 'Bangalore\\n+9',\n",
       " 'Bangalore\\n+8',\n",
       " 'Bangalore\\n+8',\n",
       " 'Bangalore',\n",
       " 'Bangalore',\n",
       " 'Bangalore',\n",
       " 'Bangalore\\n+9',\n",
       " 'Bangalore\\n+9']"
      ]
     },
     "execution_count": 29,
     "metadata": {},
     "output_type": "execute_result"
    }
   ],
   "source": [
    "#extract text\n",
    "job_location=[]\n",
    "for i in location_tags:\n",
    "    job_location.append(i.text)\n",
    "job_location[:10]"
   ]
  },
  {
   "cell_type": "code",
   "execution_count": null,
   "id": "e6613c1a",
   "metadata": {},
   "outputs": [],
   "source": [
    "#scrape the data\n",
    "company_tags=driver.find_elements(By.XPATH,'//div[@class=\"jobCard_jobCard_cName__mYnow\"]')\n",
    "company_tags "
   ]
  },
  {
   "cell_type": "code",
   "execution_count": 30,
   "id": "cec692f7",
   "metadata": {},
   "outputs": [
    {
     "data": {
      "text/plain": [
       "['krishna consultancy.. hiring for co...',\n",
       " 'provizor it services pvt. ltd.',\n",
       " 'prime services..',\n",
       " 'harjai computers private limited',\n",
       " 'harjai computers private limited',\n",
       " 'true caller',\n",
       " 'bosch group',\n",
       " 'true caller',\n",
       " 'prime services..',\n",
       " 'realtech solutions']"
      ]
     },
     "execution_count": 30,
     "metadata": {},
     "output_type": "execute_result"
    }
   ],
   "source": [
    "#extract text from tags\n",
    "company_name=[]\n",
    "for i in company_tags:\n",
    "    company_name.append(i.text)\n",
    "company_name[:10]"
   ]
  },
  {
   "cell_type": "code",
   "execution_count": null,
   "id": "b0d42048",
   "metadata": {},
   "outputs": [],
   "source": [
    "#scrape data\n",
    "experience_tags=driver.find_elements(By.XPATH,'//div[@class=\" jobCard_jobCard_lists_item__YxRkV jobCard_jobIcon__3FB1t\"]')\n",
    "experience_tags "
   ]
  },
  {
   "cell_type": "code",
   "execution_count": 32,
   "id": "37733fa4",
   "metadata": {},
   "outputs": [
    {
     "data": {
      "text/plain": [
       "['4 to 9 Yrs',\n",
       " '2 to 5 Yrs',\n",
       " '0 to 1 Yr',\n",
       " '2 to 5 Yrs',\n",
       " '0 to 2 Yrs',\n",
       " '3 to 5 Yrs',\n",
       " '4 to 6 Yrs',\n",
       " '5 to 7 Yrs',\n",
       " '0 to 1 Yr',\n",
       " '0 to 1 Yr']"
      ]
     },
     "execution_count": 32,
     "metadata": {},
     "output_type": "execute_result"
    }
   ],
   "source": [
    "#extract data\n",
    "experience_required=[]\n",
    "for i in experience_tags:\n",
    "    experience_required.append(i.text)\n",
    "experience_required[:10]"
   ]
  },
  {
   "cell_type": "code",
   "execution_count": 33,
   "id": "736ae5ae",
   "metadata": {},
   "outputs": [
    {
     "name": "stdout",
     "output_type": "stream",
     "text": [
      "10\n",
      "10\n",
      "10\n",
      "10\n"
     ]
    },
    {
     "data": {
      "text/plain": [
       "(None, None, None, None)"
      ]
     },
     "execution_count": 33,
     "metadata": {},
     "output_type": "execute_result"
    }
   ],
   "source": [
    "print(len(job_titles[:10])),print(len(company_name[:10])),print(len(experience_required[:10])),print(len(job_location[:10]))"
   ]
  },
  {
   "cell_type": "code",
   "execution_count": 38,
   "id": "edb29630",
   "metadata": {},
   "outputs": [
    {
     "data": {
      "text/html": [
       "<div>\n",
       "<style scoped>\n",
       "    .dataframe tbody tr th:only-of-type {\n",
       "        vertical-align: middle;\n",
       "    }\n",
       "\n",
       "    .dataframe tbody tr th {\n",
       "        vertical-align: top;\n",
       "    }\n",
       "\n",
       "    .dataframe thead th {\n",
       "        text-align: right;\n",
       "    }\n",
       "</style>\n",
       "<table border=\"1\" class=\"dataframe\">\n",
       "  <thead>\n",
       "    <tr style=\"text-align: right;\">\n",
       "      <th></th>\n",
       "      <th>Title</th>\n",
       "      <th>Location</th>\n",
       "      <th>Company_name</th>\n",
       "      <th>Experience_required</th>\n",
       "    </tr>\n",
       "  </thead>\n",
       "  <tbody>\n",
       "    <tr>\n",
       "      <th>0</th>\n",
       "      <td>Technical Data Analyst</td>\n",
       "      <td>Bangalore\\n+9</td>\n",
       "      <td>krishna consultancy.. hiring for co...</td>\n",
       "      <td>4 to 9 Yrs</td>\n",
       "    </tr>\n",
       "    <tr>\n",
       "      <th>1</th>\n",
       "      <td>opening data analyst -Bangalore</td>\n",
       "      <td>Bangalore</td>\n",
       "      <td>provizor it services pvt. ltd.</td>\n",
       "      <td>2 to 5 Yrs</td>\n",
       "    </tr>\n",
       "    <tr>\n",
       "      <th>2</th>\n",
       "      <td>Data Entry Operator(data analyst work) REMOTE ...</td>\n",
       "      <td>Bangalore\\n+9</td>\n",
       "      <td>prime services..</td>\n",
       "      <td>0 to 1 Yr</td>\n",
       "    </tr>\n",
       "    <tr>\n",
       "      <th>3</th>\n",
       "      <td>Hiring For Data Analyst</td>\n",
       "      <td>Bangalore\\n+8</td>\n",
       "      <td>harjai computers private limited</td>\n",
       "      <td>2 to 5 Yrs</td>\n",
       "    </tr>\n",
       "    <tr>\n",
       "      <th>4</th>\n",
       "      <td>Senior Data Analyst</td>\n",
       "      <td>Bangalore\\n+8</td>\n",
       "      <td>harjai computers private limited</td>\n",
       "      <td>0 to 2 Yrs</td>\n",
       "    </tr>\n",
       "    <tr>\n",
       "      <th>5</th>\n",
       "      <td>Data Analyst</td>\n",
       "      <td>Bangalore</td>\n",
       "      <td>true caller</td>\n",
       "      <td>3 to 5 Yrs</td>\n",
       "    </tr>\n",
       "    <tr>\n",
       "      <th>6</th>\n",
       "      <td>Mobility Data Analyst - IN/MKR</td>\n",
       "      <td>Bangalore</td>\n",
       "      <td>bosch group</td>\n",
       "      <td>4 to 6 Yrs</td>\n",
       "    </tr>\n",
       "    <tr>\n",
       "      <th>7</th>\n",
       "      <td>Senior Data Analyst</td>\n",
       "      <td>Bangalore</td>\n",
       "      <td>true caller</td>\n",
       "      <td>5 to 7 Yrs</td>\n",
       "    </tr>\n",
       "    <tr>\n",
       "      <th>8</th>\n",
       "      <td>hiring for data entry analyst ( position data ...</td>\n",
       "      <td>Bangalore\\n+9</td>\n",
       "      <td>prime services..</td>\n",
       "      <td>0 to 1 Yr</td>\n",
       "    </tr>\n",
       "    <tr>\n",
       "      <th>9</th>\n",
       "      <td>hiring for data entry analyst ( position data ...</td>\n",
       "      <td>Bangalore\\n+9</td>\n",
       "      <td>realtech solutions</td>\n",
       "      <td>0 to 1 Yr</td>\n",
       "    </tr>\n",
       "  </tbody>\n",
       "</table>\n",
       "</div>"
      ],
      "text/plain": [
       "                                               Title       Location  \\\n",
       "0                             Technical Data Analyst  Bangalore\\n+9   \n",
       "1                    opening data analyst -Bangalore      Bangalore   \n",
       "2  Data Entry Operator(data analyst work) REMOTE ...  Bangalore\\n+9   \n",
       "3                            Hiring For Data Analyst  Bangalore\\n+8   \n",
       "4                                Senior Data Analyst  Bangalore\\n+8   \n",
       "5                                       Data Analyst      Bangalore   \n",
       "6                     Mobility Data Analyst - IN/MKR      Bangalore   \n",
       "7                                Senior Data Analyst      Bangalore   \n",
       "8  hiring for data entry analyst ( position data ...  Bangalore\\n+9   \n",
       "9  hiring for data entry analyst ( position data ...  Bangalore\\n+9   \n",
       "\n",
       "                             Company_name Experience_required  \n",
       "0  krishna consultancy.. hiring for co...          4 to 9 Yrs  \n",
       "1          provizor it services pvt. ltd.          2 to 5 Yrs  \n",
       "2                        prime services..           0 to 1 Yr  \n",
       "3        harjai computers private limited          2 to 5 Yrs  \n",
       "4        harjai computers private limited          0 to 2 Yrs  \n",
       "5                             true caller          3 to 5 Yrs  \n",
       "6                             bosch group          4 to 6 Yrs  \n",
       "7                             true caller          5 to 7 Yrs  \n",
       "8                        prime services..           0 to 1 Yr  \n",
       "9                      realtech solutions           0 to 1 Yr  "
      ]
     },
     "execution_count": 38,
     "metadata": {},
     "output_type": "execute_result"
    }
   ],
   "source": [
    "df=pd.DataFrame({'Title':job_titles,'Location':job_location,'Company_name':company_name,'Experience_required':experience_required})\n",
    "df\n",
    "df.head(10)"
   ]
  },
  {
   "cell_type": "code",
   "execution_count": 40,
   "id": "bb376944",
   "metadata": {},
   "outputs": [],
   "source": [
    "#2. PYTHON PROGRAM TO SCRAPE DATA FOR DATA SCIENTIST IN BANGALORE\n",
    "\n",
    "#opening webpage on automated chrome browser\n",
    "driver = webdriver.Chrome()\n",
    "driver.get(\"https://www.shine.com/\")"
   ]
  },
  {
   "cell_type": "code",
   "execution_count": 43,
   "id": "ca1676c4",
   "metadata": {},
   "outputs": [],
   "source": [
    "#click on search button to open next search window\n",
    "\n",
    "search1=driver.find_element(By.CLASS_NAME,\"SearchBarRight\")\n",
    "search1.click()"
   ]
  },
  {
   "cell_type": "code",
   "execution_count": 44,
   "id": "e460a11e",
   "metadata": {},
   "outputs": [],
   "source": [
    "#entering job position 'Data scientist' and location 'Bangalore' in respective fields\n",
    "\n",
    "designation1=driver.find_element(By.CLASS_NAME,\"form-control\")\n",
    "designation1.send_keys('Data Scientist')"
   ]
  },
  {
   "cell_type": "code",
   "execution_count": 45,
   "id": "8c5d77b4",
   "metadata": {},
   "outputs": [],
   "source": [
    "location1=driver.find_element(By.XPATH,\"/html/body/div[1]/div[4]/div/div[2]/div[2]/div/form/div/div[1]/ul/li[2]/div/input\")\n",
    "location1.send_keys('Bangalore')"
   ]
  },
  {
   "cell_type": "code",
   "execution_count": 46,
   "id": "4a51e87b",
   "metadata": {},
   "outputs": [],
   "source": [
    "#click search button\n",
    "    \n",
    "search_button1= driver.find_element(By.CLASS_NAME,\"searchForm_btnWrap__Cb75F\")\n",
    "search_button1.click()"
   ]
  },
  {
   "cell_type": "code",
   "execution_count": 52,
   "id": "7930cb0f",
   "metadata": {},
   "outputs": [],
   "source": [
    "#scrape the 'job-title' data\n",
    "title_tags1=driver.find_elements(By.XPATH,'//h2[@itemprop=\"name\"]')\n",
    "title_tags1"
   ]
  },
  {
   "cell_type": "code",
   "execution_count": 51,
   "id": "f1393547",
   "metadata": {},
   "outputs": [
    {
     "data": {
      "text/plain": [
       "['Data Scientist',\n",
       " 'SR. DATA SCIENTIST',\n",
       " 'Senior Data Scientist- ML Engineer',\n",
       " 'Data Scientist III',\n",
       " 'Data Scientist Hiring Fresher and Experience',\n",
       " 'Opening for Computer executive, data typing , entry dat ...',\n",
       " 'Data Scientist',\n",
       " 'Senior Data Scientist, AWS',\n",
       " 'Data Scientist Recruitment',\n",
       " 'Data Engineer II, Amazon WFM Tech Enterprise Data']"
      ]
     },
     "execution_count": 51,
     "metadata": {},
     "output_type": "execute_result"
    }
   ],
   "source": [
    "#extract the text\n",
    "job_titles1=[]\n",
    "for i in title_tags1:\n",
    "    if i.text is None:\n",
    "        job_titles1.append('Not')\n",
    "    else:\n",
    "        job_titles1.append(i.text)\n",
    "job_titles1[:10]"
   ]
  },
  {
   "cell_type": "code",
   "execution_count": null,
   "id": "b053b31c",
   "metadata": {},
   "outputs": [],
   "source": [
    "#scrape the data\n",
    "location_tags1=driver.find_elements(By.XPATH,'//div[@class=\" jobCard_jobCard_lists_item__YxRkV jobCard_locationIcon__zrWt2\"]')\n",
    "location_tags1"
   ]
  },
  {
   "cell_type": "code",
   "execution_count": 58,
   "id": "153f4db8",
   "metadata": {},
   "outputs": [
    {
     "data": {
      "text/plain": [
       "['Bangalore',\n",
       " 'Bangalore',\n",
       " 'Bangalore',\n",
       " 'Bangalore',\n",
       " 'Bangalore\\n+17',\n",
       " 'Bangalore\\n+9',\n",
       " 'Bangalore\\n+6',\n",
       " 'Bangalore',\n",
       " 'Bangalore\\n+17',\n",
       " 'Bangalore']"
      ]
     },
     "execution_count": 58,
     "metadata": {},
     "output_type": "execute_result"
    }
   ],
   "source": [
    "#extract text\n",
    "job_location1=[]\n",
    "for i in location_tags1:\n",
    "    job_location1.append(i.text)\n",
    "job_location1[:10]"
   ]
  },
  {
   "cell_type": "code",
   "execution_count": null,
   "id": "8a06f98d",
   "metadata": {},
   "outputs": [],
   "source": [
    "#scrape the data\n",
    "company_tags1=driver.find_elements(By.XPATH,'//div[@class=\"jobCard_jobCard_cName__mYnow\"]')\n",
    "company_tags1 "
   ]
  },
  {
   "cell_type": "code",
   "execution_count": 60,
   "id": "8442d195",
   "metadata": {},
   "outputs": [
    {
     "data": {
      "text/plain": [
       "['the fashion cosmo',\n",
       " 'te connectivity india pvt ltd',\n",
       " 'sap india pvt ltd',\n",
       " 'inmobi',\n",
       " 'kavya staffing solutions',\n",
       " 'realtech solutions',\n",
       " 'quiscon biotech',\n",
       " 'amazon',\n",
       " 'kavya staffing solutions',\n",
       " 'amazon']"
      ]
     },
     "execution_count": 60,
     "metadata": {},
     "output_type": "execute_result"
    }
   ],
   "source": [
    "#extract text from tags\n",
    "company_name1=[]\n",
    "for i in company_tags1:\n",
    "    company_name1.append(i.text)\n",
    "company_name1[:10]"
   ]
  },
  {
   "cell_type": "code",
   "execution_count": null,
   "id": "3557de60",
   "metadata": {},
   "outputs": [],
   "source": [
    "#scrape data\n",
    "experience_tags1=driver.find_elements(By.XPATH,'//div[@class=\" jobCard_jobCard_lists_item__YxRkV jobCard_jobIcon__3FB1t\"]')\n",
    "experience_tags1"
   ]
  },
  {
   "cell_type": "code",
   "execution_count": 63,
   "id": "c02109c0",
   "metadata": {},
   "outputs": [
    {
     "data": {
      "text/plain": [
       "['0 to 4 Yrs',\n",
       " '5 to 7 Yrs',\n",
       " '5 to 7 Yrs',\n",
       " '7 to 9 Yrs',\n",
       " '0 to 4 Yrs',\n",
       " '0 to 1 Yr',\n",
       " '0 to 1 Yr',\n",
       " '10 to 12 Yrs',\n",
       " '0 to 4 Yrs',\n",
       " '3 to 5 Yrs']"
      ]
     },
     "execution_count": 63,
     "metadata": {},
     "output_type": "execute_result"
    }
   ],
   "source": [
    "#extract data\n",
    "experience_required1=[]\n",
    "for i in experience_tags1:\n",
    "    experience_required1.append(i.text)\n",
    "experience_required1[:10]"
   ]
  },
  {
   "cell_type": "code",
   "execution_count": 64,
   "id": "1a1e7405",
   "metadata": {},
   "outputs": [
    {
     "name": "stdout",
     "output_type": "stream",
     "text": [
      "10\n",
      "10\n",
      "10\n",
      "10\n"
     ]
    },
    {
     "data": {
      "text/plain": [
       "(None, None, None, None)"
      ]
     },
     "execution_count": 64,
     "metadata": {},
     "output_type": "execute_result"
    }
   ],
   "source": [
    "print(len(job_titles1[:10])),print(len(company_name1[:10])),print(len(experience_required1[:10])),print(len(job_location1[:10]))"
   ]
  },
  {
   "cell_type": "code",
   "execution_count": 66,
   "id": "3040bd4a",
   "metadata": {},
   "outputs": [
    {
     "data": {
      "text/html": [
       "<div>\n",
       "<style scoped>\n",
       "    .dataframe tbody tr th:only-of-type {\n",
       "        vertical-align: middle;\n",
       "    }\n",
       "\n",
       "    .dataframe tbody tr th {\n",
       "        vertical-align: top;\n",
       "    }\n",
       "\n",
       "    .dataframe thead th {\n",
       "        text-align: right;\n",
       "    }\n",
       "</style>\n",
       "<table border=\"1\" class=\"dataframe\">\n",
       "  <thead>\n",
       "    <tr style=\"text-align: right;\">\n",
       "      <th></th>\n",
       "      <th>Title</th>\n",
       "      <th>Location</th>\n",
       "      <th>Company_name</th>\n",
       "      <th>Experience_required</th>\n",
       "    </tr>\n",
       "  </thead>\n",
       "  <tbody>\n",
       "    <tr>\n",
       "      <th>0</th>\n",
       "      <td>Data Scientist</td>\n",
       "      <td>Bangalore</td>\n",
       "      <td>the fashion cosmo</td>\n",
       "      <td>0 to 4 Yrs</td>\n",
       "    </tr>\n",
       "    <tr>\n",
       "      <th>1</th>\n",
       "      <td>SR. DATA SCIENTIST</td>\n",
       "      <td>Bangalore</td>\n",
       "      <td>te connectivity india pvt ltd</td>\n",
       "      <td>5 to 7 Yrs</td>\n",
       "    </tr>\n",
       "    <tr>\n",
       "      <th>2</th>\n",
       "      <td>Senior Data Scientist- ML Engineer</td>\n",
       "      <td>Bangalore</td>\n",
       "      <td>sap india pvt ltd</td>\n",
       "      <td>5 to 7 Yrs</td>\n",
       "    </tr>\n",
       "    <tr>\n",
       "      <th>3</th>\n",
       "      <td>Data Scientist III</td>\n",
       "      <td>Bangalore</td>\n",
       "      <td>inmobi</td>\n",
       "      <td>7 to 9 Yrs</td>\n",
       "    </tr>\n",
       "    <tr>\n",
       "      <th>4</th>\n",
       "      <td>Data Scientist Hiring Fresher and Experience</td>\n",
       "      <td>Bangalore\\n+17</td>\n",
       "      <td>kavya staffing solutions</td>\n",
       "      <td>0 to 4 Yrs</td>\n",
       "    </tr>\n",
       "    <tr>\n",
       "      <th>5</th>\n",
       "      <td>Opening for Computer executive, data typing , ...</td>\n",
       "      <td>Bangalore\\n+9</td>\n",
       "      <td>realtech solutions</td>\n",
       "      <td>0 to 1 Yr</td>\n",
       "    </tr>\n",
       "    <tr>\n",
       "      <th>6</th>\n",
       "      <td>Data Scientist</td>\n",
       "      <td>Bangalore\\n+6</td>\n",
       "      <td>quiscon biotech</td>\n",
       "      <td>0 to 1 Yr</td>\n",
       "    </tr>\n",
       "    <tr>\n",
       "      <th>7</th>\n",
       "      <td>Senior Data Scientist, AWS</td>\n",
       "      <td>Bangalore</td>\n",
       "      <td>amazon</td>\n",
       "      <td>10 to 12 Yrs</td>\n",
       "    </tr>\n",
       "    <tr>\n",
       "      <th>8</th>\n",
       "      <td>Data Scientist Recruitment</td>\n",
       "      <td>Bangalore\\n+17</td>\n",
       "      <td>kavya staffing solutions</td>\n",
       "      <td>0 to 4 Yrs</td>\n",
       "    </tr>\n",
       "    <tr>\n",
       "      <th>9</th>\n",
       "      <td>Data Engineer II, Amazon WFM Tech Enterprise Data</td>\n",
       "      <td>Bangalore</td>\n",
       "      <td>amazon</td>\n",
       "      <td>3 to 5 Yrs</td>\n",
       "    </tr>\n",
       "  </tbody>\n",
       "</table>\n",
       "</div>"
      ],
      "text/plain": [
       "                                               Title        Location  \\\n",
       "0                                     Data Scientist       Bangalore   \n",
       "1                                 SR. DATA SCIENTIST       Bangalore   \n",
       "2                 Senior Data Scientist- ML Engineer       Bangalore   \n",
       "3                                 Data Scientist III       Bangalore   \n",
       "4       Data Scientist Hiring Fresher and Experience  Bangalore\\n+17   \n",
       "5  Opening for Computer executive, data typing , ...   Bangalore\\n+9   \n",
       "6                                     Data Scientist   Bangalore\\n+6   \n",
       "7                         Senior Data Scientist, AWS       Bangalore   \n",
       "8                         Data Scientist Recruitment  Bangalore\\n+17   \n",
       "9  Data Engineer II, Amazon WFM Tech Enterprise Data       Bangalore   \n",
       "\n",
       "                    Company_name Experience_required  \n",
       "0              the fashion cosmo          0 to 4 Yrs  \n",
       "1  te connectivity india pvt ltd          5 to 7 Yrs  \n",
       "2              sap india pvt ltd          5 to 7 Yrs  \n",
       "3                         inmobi          7 to 9 Yrs  \n",
       "4       kavya staffing solutions          0 to 4 Yrs  \n",
       "5             realtech solutions           0 to 1 Yr  \n",
       "6                quiscon biotech           0 to 1 Yr  \n",
       "7                         amazon        10 to 12 Yrs  \n",
       "8       kavya staffing solutions          0 to 4 Yrs  \n",
       "9                         amazon          3 to 5 Yrs  "
      ]
     },
     "execution_count": 66,
     "metadata": {},
     "output_type": "execute_result"
    }
   ],
   "source": [
    "df1=pd.DataFrame({'Title':job_titles1,'Location':job_location1,'Company_name':company_name1,'Experience_required':experience_required1})\n",
    "df1\n",
    "df1.head(10)"
   ]
  },
  {
   "cell_type": "code",
   "execution_count": 7,
   "id": "3ba23a51",
   "metadata": {},
   "outputs": [],
   "source": [
    "#3. A PYTHON PROGRAM TO SCRAPE DATA USING FILTERS ON WEBPAGE\n",
    "\n",
    "#opening webpage on automated chrome browser\n",
    "driver = webdriver.Chrome()\n",
    "driver.get(\"https://www.shine.com/\")"
   ]
  },
  {
   "cell_type": "code",
   "execution_count": 15,
   "id": "62090b13",
   "metadata": {},
   "outputs": [],
   "source": [
    "srch_b1=driver.find_element(By.CLASS_NAME,\"SearchBarRight\")\n",
    "srch_b1.click()"
   ]
  },
  {
   "cell_type": "code",
   "execution_count": 16,
   "id": "ad55c34b",
   "metadata": {},
   "outputs": [],
   "source": [
    "designation3=driver.find_element(By.CLASS_NAME,\"form-control  \")\n",
    "designation3.send_keys('Data Scientist')"
   ]
  },
  {
   "cell_type": "code",
   "execution_count": 17,
   "id": "3d76cbe5",
   "metadata": {},
   "outputs": [],
   "source": [
    "search_button2= driver.find_element(By.CLASS_NAME,\"searchForm_btnWrap__Cb75F\")\n",
    "search_button2.click()"
   ]
  },
  {
   "cell_type": "code",
   "execution_count": null,
   "id": "43ff37cc",
   "metadata": {},
   "outputs": [],
   "source": [
    "srch_butn= driver.find_element(By.CLASS_NAME,\"filter_filterBtn__FAqUy btn btn-outline-grey font-size-xs \")\n",
    "srch_butn.click()"
   ]
  },
  {
   "cell_type": "code",
   "execution_count": null,
   "id": "e4237b87",
   "metadata": {},
   "outputs": [],
   "source": []
  },
  {
   "cell_type": "code",
   "execution_count": null,
   "id": "117d66cc",
   "metadata": {},
   "outputs": [],
   "source": []
  },
  {
   "cell_type": "code",
   "execution_count": null,
   "id": "b2acc844",
   "metadata": {},
   "outputs": [],
   "source": []
  },
  {
   "cell_type": "code",
   "execution_count": null,
   "id": "e1402dc4",
   "metadata": {},
   "outputs": [],
   "source": []
  },
  {
   "cell_type": "code",
   "execution_count": null,
   "id": "87a4cd23",
   "metadata": {},
   "outputs": [],
   "source": []
  },
  {
   "cell_type": "code",
   "execution_count": 46,
   "id": "77600fab",
   "metadata": {},
   "outputs": [],
   "source": [
    "#4.SCRAPE DATA FOR FIRST 100 SUNGLASSES\n",
    "\n",
    "#opening webpage on automated chrome browser\n",
    "\n",
    "driver = webdriver.Chrome()\n",
    "driver.get(\"https://www.flipkart.com/\")"
   ]
  },
  {
   "cell_type": "code",
   "execution_count": 47,
   "id": "53c6a4e1",
   "metadata": {},
   "outputs": [],
   "source": [
    "#Entering 'sunglasses' in search field'\n",
    "\n",
    "product=driver.find_element(By.CLASS_NAME,\"Pke_EE\")\n",
    "product.send_keys('sunglasses')"
   ]
  },
  {
   "cell_type": "code",
   "execution_count": null,
   "id": "86eca981",
   "metadata": {},
   "outputs": [],
   "source": [
    "#click on search button\n",
    "\n",
    "srch_b=driver.find_element(By.CLASS_NAME,\"L0Z3Pu\")\n",
    "srch_b.click()"
   ]
  },
  {
   "cell_type": "code",
   "execution_count": 52,
   "id": "1173ef5b",
   "metadata": {},
   "outputs": [],
   "source": [
    "#Scraping the data from 3 pages\n",
    "\n",
    "B_name=[]\n",
    "start=0\n",
    "end=3\n",
    "for page in range(0,3):\n",
    "    \n",
    "    b_name = driver.find_elements(By.XPATH,'//div[@class=\"_2WkVRV\"]')\n",
    "    for i in b_name:\n",
    "        B_name.append(i.text)\n",
    "        \n",
    "nxt_btn=driver.find_element(By.XPATH,'//a[@class=\"_1LKTO3\"]')\n",
    "nxt_btn.click()\n"
   ]
  },
  {
   "cell_type": "code",
   "execution_count": 49,
   "id": "de7f2d5a",
   "metadata": {},
   "outputs": [],
   "source": [
    "Price=[]\n",
    "start=0\n",
    "end=3\n",
    "for page in range(0,3):\n",
    "    \n",
    "    price = driver.find_elements(By.XPATH,'//div[@class=\"_30jeq3\"]')\n",
    "    for i in price:\n",
    "        Price.append(i.text)\n",
    "        \n",
    "nxt_btn=driver.find_element(By.XPATH,'//a[@class=\"_1LKTO3\"]')\n",
    "nxt_btn.click()"
   ]
  },
  {
   "cell_type": "code",
   "execution_count": 53,
   "id": "c8f1ac83",
   "metadata": {},
   "outputs": [],
   "source": [
    "P_desc=[]\n",
    "start=0\n",
    "end=3\n",
    "for page in range(0,3):\n",
    "    \n",
    "    p_desc = driver.find_elements(By.XPATH,'//a[@class=\"IRpwTa\"]')\n",
    "    for i in p_desc:\n",
    "        P_desc.append(i.text)\n",
    "        \n",
    "nxt_btn=driver.find_element(By.XPATH,'//a[@class=\"_1LKTO3\"]')\n",
    "nxt_btn.click()"
   ]
  },
  {
   "cell_type": "code",
   "execution_count": 55,
   "id": "d7b10f3f",
   "metadata": {},
   "outputs": [],
   "source": [
    "Discount=[]\n",
    "start=0\n",
    "end=3\n",
    "for page in range(0,3):\n",
    "    \n",
    "    discount = driver.find_elements(By.XPATH,'//div[@class=\"_3Ay6Sb\"]')\n",
    "    for i in discount:\n",
    "        Discount.append(i.text)\n",
    "        \n",
    "nxt_btn=driver.find_element(By.XPATH,'//a[@class=\"_1LKTO3\"]')\n",
    "nxt_btn.click()"
   ]
  },
  {
   "cell_type": "code",
   "execution_count": 56,
   "id": "9a1a9c11",
   "metadata": {},
   "outputs": [
    {
     "name": "stdout",
     "output_type": "stream",
     "text": [
      "100\n",
      "100\n",
      "100\n",
      "100\n"
     ]
    },
    {
     "data": {
      "text/plain": [
       "(None, None, None, None)"
      ]
     },
     "execution_count": 56,
     "metadata": {},
     "output_type": "execute_result"
    }
   ],
   "source": [
    "print(len(B_name[:100])),print(len(Price[:100])),print(len(P_desc[:100])),print(len(Discount[:100]))"
   ]
  },
  {
   "cell_type": "code",
   "execution_count": 57,
   "id": "0c6a6505",
   "metadata": {},
   "outputs": [
    {
     "data": {
      "text/html": [
       "<div>\n",
       "<style scoped>\n",
       "    .dataframe tbody tr th:only-of-type {\n",
       "        vertical-align: middle;\n",
       "    }\n",
       "\n",
       "    .dataframe tbody tr th {\n",
       "        vertical-align: top;\n",
       "    }\n",
       "\n",
       "    .dataframe thead th {\n",
       "        text-align: right;\n",
       "    }\n",
       "</style>\n",
       "<table border=\"1\" class=\"dataframe\">\n",
       "  <thead>\n",
       "    <tr style=\"text-align: right;\">\n",
       "      <th></th>\n",
       "      <th>Brand</th>\n",
       "      <th>Price</th>\n",
       "      <th>Prodcut_description</th>\n",
       "      <th>Discount</th>\n",
       "    </tr>\n",
       "  </thead>\n",
       "  <tbody>\n",
       "    <tr>\n",
       "      <th>0</th>\n",
       "      <td>Fastrack</td>\n",
       "      <td>₹499</td>\n",
       "      <td>Mirrored, UV Protection Wayfarer Sunglasses (53)</td>\n",
       "      <td>44% off</td>\n",
       "    </tr>\n",
       "    <tr>\n",
       "      <th>1</th>\n",
       "      <td>Fastrack</td>\n",
       "      <td>₹549</td>\n",
       "      <td>UV Protection Rectangular, Retro Square Sungla...</td>\n",
       "      <td>62% off</td>\n",
       "    </tr>\n",
       "    <tr>\n",
       "      <th>2</th>\n",
       "      <td>Rich Club</td>\n",
       "      <td>₹488</td>\n",
       "      <td>Polarized, UV Protection Sports Sunglasses (68)</td>\n",
       "      <td>38% off</td>\n",
       "    </tr>\n",
       "    <tr>\n",
       "      <th>3</th>\n",
       "      <td>Fastrack</td>\n",
       "      <td>₹549</td>\n",
       "      <td>UV Protection, Mirrored Sports Sunglasses (62)</td>\n",
       "      <td>75% off</td>\n",
       "    </tr>\n",
       "    <tr>\n",
       "      <th>4</th>\n",
       "      <td>eyedens</td>\n",
       "      <td>₹249</td>\n",
       "      <td>Polarized, Riding Glasses Sports, Wrap-around ...</td>\n",
       "      <td>84% off</td>\n",
       "    </tr>\n",
       "    <tr>\n",
       "      <th>...</th>\n",
       "      <td>...</td>\n",
       "      <td>...</td>\n",
       "      <td>...</td>\n",
       "      <td>...</td>\n",
       "    </tr>\n",
       "    <tr>\n",
       "      <th>95</th>\n",
       "      <td>Fastrack</td>\n",
       "      <td>₹649</td>\n",
       "      <td>Riding Glasses, UV Protection Clubmaster, Wayf...</td>\n",
       "      <td>40% off</td>\n",
       "    </tr>\n",
       "    <tr>\n",
       "      <th>96</th>\n",
       "      <td>VINCENT CHASE</td>\n",
       "      <td>₹549</td>\n",
       "      <td>Polarized, UV Protection Round Sunglasses (48)</td>\n",
       "      <td>89% off</td>\n",
       "    </tr>\n",
       "    <tr>\n",
       "      <th>97</th>\n",
       "      <td>Douceur</td>\n",
       "      <td>₹299</td>\n",
       "      <td>UV Protection Wayfarer Sunglasses (50)</td>\n",
       "      <td>70% off</td>\n",
       "    </tr>\n",
       "    <tr>\n",
       "      <th>98</th>\n",
       "      <td>Fastrack</td>\n",
       "      <td>₹599</td>\n",
       "      <td>Polarized, UV Protection, Riding Glasses Wayfa...</td>\n",
       "      <td>80% off</td>\n",
       "    </tr>\n",
       "    <tr>\n",
       "      <th>99</th>\n",
       "      <td>PIRASO</td>\n",
       "      <td>₹279</td>\n",
       "      <td>UV Protection, Gradient Aviator Sunglasses (58)</td>\n",
       "      <td>63% off</td>\n",
       "    </tr>\n",
       "  </tbody>\n",
       "</table>\n",
       "<p>100 rows × 4 columns</p>\n",
       "</div>"
      ],
      "text/plain": [
       "            Brand Price                                Prodcut_description  \\\n",
       "0        Fastrack  ₹499   Mirrored, UV Protection Wayfarer Sunglasses (53)   \n",
       "1        Fastrack  ₹549  UV Protection Rectangular, Retro Square Sungla...   \n",
       "2       Rich Club  ₹488    Polarized, UV Protection Sports Sunglasses (68)   \n",
       "3        Fastrack  ₹549     UV Protection, Mirrored Sports Sunglasses (62)   \n",
       "4         eyedens  ₹249  Polarized, Riding Glasses Sports, Wrap-around ...   \n",
       "..            ...   ...                                                ...   \n",
       "95       Fastrack  ₹649  Riding Glasses, UV Protection Clubmaster, Wayf...   \n",
       "96  VINCENT CHASE  ₹549     Polarized, UV Protection Round Sunglasses (48)   \n",
       "97        Douceur  ₹299             UV Protection Wayfarer Sunglasses (50)   \n",
       "98       Fastrack  ₹599  Polarized, UV Protection, Riding Glasses Wayfa...   \n",
       "99         PIRASO  ₹279    UV Protection, Gradient Aviator Sunglasses (58)   \n",
       "\n",
       "   Discount  \n",
       "0   44% off  \n",
       "1   62% off  \n",
       "2   38% off  \n",
       "3   75% off  \n",
       "4   84% off  \n",
       "..      ...  \n",
       "95  40% off  \n",
       "96  89% off  \n",
       "97  70% off  \n",
       "98  80% off  \n",
       "99  63% off  \n",
       "\n",
       "[100 rows x 4 columns]"
      ]
     },
     "execution_count": 57,
     "metadata": {},
     "output_type": "execute_result"
    }
   ],
   "source": [
    "#creating dataframe\n",
    "df3=pd.DataFrame({'Brand':B_name[:100],'Price':Price[:100],'Prodcut_description':P_desc[:100],'Discount':Discount[:100]})\n",
    "df3"
   ]
  },
  {
   "cell_type": "code",
   "execution_count": 194,
   "id": "e52bcc5e",
   "metadata": {},
   "outputs": [],
   "source": [
    "#5. SCRAPE FIRST 100 REVIEWS OF iPHONE 11\n",
    "\n",
    "#opening webpage on automated chrome browser\n",
    "\n",
    "driver = webdriver.Chrome()\n",
    "driver.get(\"https://www.flipkart.com/apple-iphone-11-black-64-gb/p/itm4e5041ba101fd\")"
   ]
  },
  {
   "cell_type": "code",
   "execution_count": null,
   "id": "79361bd1",
   "metadata": {},
   "outputs": [],
   "source": [
    "#scraping data from webpages\n",
    "\n",
    "Rating=[]\n",
    "start=0\n",
    "end=10\n",
    "for page in range(0,10):\n",
    "    \n",
    "    rating = driver.find_elements(By.XPATH,'//div[@class=\"_3LWZlK _1BLPMq\"]')\n",
    "    for i in rating:\n",
    "        Rating.append(i.text)\n",
    "        \n",
    "nxt_btn2=driver.find_element(By.XPATH,'//div[@class=\"_3UAT2v _16PBlm\"]')\n",
    "nxt_btn2.click()"
   ]
  },
  {
   "cell_type": "code",
   "execution_count": null,
   "id": "2a24d2f2",
   "metadata": {},
   "outputs": [],
   "source": [
    "Summary=[]\n",
    "start=0\n",
    "end=10\n",
    "for page in range(0,10):\n",
    "    \n",
    "    sumry= driver.find_elements(By.XPATH,'//p[@class=\"_2-N8zT\"]')\n",
    "    for j in sumry:\n",
    "        Summary.append(j.text)\n",
    "        \n",
    "nxt_btn2=driver.find_element(By.XPATH,'//div[@class=\"_3UAT2v _16PBlm\"]')\n",
    "nxt_btn2.click()"
   ]
  },
  {
   "cell_type": "code",
   "execution_count": null,
   "id": "35ebe409",
   "metadata": {},
   "outputs": [],
   "source": [
    "Full_review=[]\n",
    "start=0\n",
    "end=10\n",
    "for page in range(0,10):\n",
    "    \n",
    "    full_r= driver.find_elements(By.XPATH,'//div[@class=\"t-ZTKy\"]')\n",
    "    for k in full_r:\n",
    "        Full_review.append(k.text)\n",
    "        \n",
    "nxt_btn2=driver.find_element(By.XPATH,'//div[@class=\"_3UAT2v _16PBlm\"]')\n",
    "nxt_btn2.click()"
   ]
  },
  {
   "cell_type": "code",
   "execution_count": 201,
   "id": "839474e9",
   "metadata": {},
   "outputs": [
    {
     "name": "stdout",
     "output_type": "stream",
     "text": [
      "100\n",
      "100\n",
      "100\n"
     ]
    },
    {
     "data": {
      "text/plain": [
       "(None, None, None)"
      ]
     },
     "execution_count": 201,
     "metadata": {},
     "output_type": "execute_result"
    }
   ],
   "source": [
    "print(len(Rating[:100])),print(len(Summary[:100])),print(len(Full_review[:100]))"
   ]
  },
  {
   "cell_type": "code",
   "execution_count": 208,
   "id": "fc41d1b0",
   "metadata": {},
   "outputs": [
    {
     "data": {
      "text/html": [
       "<div>\n",
       "<style scoped>\n",
       "    .dataframe tbody tr th:only-of-type {\n",
       "        vertical-align: middle;\n",
       "    }\n",
       "\n",
       "    .dataframe tbody tr th {\n",
       "        vertical-align: top;\n",
       "    }\n",
       "\n",
       "    .dataframe thead th {\n",
       "        text-align: right;\n",
       "    }\n",
       "</style>\n",
       "<table border=\"1\" class=\"dataframe\">\n",
       "  <thead>\n",
       "    <tr style=\"text-align: right;\">\n",
       "      <th></th>\n",
       "      <th>Rating</th>\n",
       "      <th>Review Summary</th>\n",
       "      <th>FULL_Review</th>\n",
       "    </tr>\n",
       "  </thead>\n",
       "  <tbody>\n",
       "    <tr>\n",
       "      <th>0</th>\n",
       "      <td>5</td>\n",
       "      <td>Best in the market!</td>\n",
       "      <td>Good Camera</td>\n",
       "    </tr>\n",
       "    <tr>\n",
       "      <th>1</th>\n",
       "      <td>5</td>\n",
       "      <td>Worth every penny</td>\n",
       "      <td>Feeling awesome after getting the delivery of ...</td>\n",
       "    </tr>\n",
       "    <tr>\n",
       "      <th>2</th>\n",
       "      <td>5</td>\n",
       "      <td>Classy product</td>\n",
       "      <td>Camera is awesome\\nBest battery backup\\nA perf...</td>\n",
       "    </tr>\n",
       "    <tr>\n",
       "      <th>3</th>\n",
       "      <td>5</td>\n",
       "      <td>Terrific</td>\n",
       "      <td>Very very good</td>\n",
       "    </tr>\n",
       "    <tr>\n",
       "      <th>4</th>\n",
       "      <td>5</td>\n",
       "      <td>Must buy!</td>\n",
       "      <td>Go for iPhone 11 , if confused between iPhone ...</td>\n",
       "    </tr>\n",
       "    <tr>\n",
       "      <th>...</th>\n",
       "      <td>...</td>\n",
       "      <td>...</td>\n",
       "      <td>...</td>\n",
       "    </tr>\n",
       "    <tr>\n",
       "      <th>95</th>\n",
       "      <td>5</td>\n",
       "      <td>Fabulous!</td>\n",
       "      <td>Super🔥 and good performance 👌❤️</td>\n",
       "    </tr>\n",
       "    <tr>\n",
       "      <th>96</th>\n",
       "      <td>5</td>\n",
       "      <td>Classy product</td>\n",
       "      <td>Photos super</td>\n",
       "    </tr>\n",
       "    <tr>\n",
       "      <th>97</th>\n",
       "      <td>5</td>\n",
       "      <td>Just wow!</td>\n",
       "      <td>Perfect Product!!</td>\n",
       "    </tr>\n",
       "    <tr>\n",
       "      <th>98</th>\n",
       "      <td>5</td>\n",
       "      <td>Must buy!</td>\n",
       "      <td>It’s really awesome</td>\n",
       "    </tr>\n",
       "    <tr>\n",
       "      <th>99</th>\n",
       "      <td>5</td>\n",
       "      <td>Wonderful</td>\n",
       "      <td>This is amazing at all</td>\n",
       "    </tr>\n",
       "  </tbody>\n",
       "</table>\n",
       "<p>100 rows × 3 columns</p>\n",
       "</div>"
      ],
      "text/plain": [
       "   Rating       Review Summary  \\\n",
       "0       5  Best in the market!   \n",
       "1       5    Worth every penny   \n",
       "2       5       Classy product   \n",
       "3       5             Terrific   \n",
       "4       5            Must buy!   \n",
       "..    ...                  ...   \n",
       "95      5            Fabulous!   \n",
       "96      5       Classy product   \n",
       "97      5            Just wow!   \n",
       "98      5            Must buy!   \n",
       "99      5            Wonderful   \n",
       "\n",
       "                                          FULL_Review  \n",
       "0                                         Good Camera  \n",
       "1   Feeling awesome after getting the delivery of ...  \n",
       "2   Camera is awesome\\nBest battery backup\\nA perf...  \n",
       "3                                      Very very good  \n",
       "4   Go for iPhone 11 , if confused between iPhone ...  \n",
       "..                                                ...  \n",
       "95                    Super🔥 and good performance 👌❤️  \n",
       "96                                       Photos super  \n",
       "97                                  Perfect Product!!  \n",
       "98                                It’s really awesome  \n",
       "99                             This is amazing at all  \n",
       "\n",
       "[100 rows x 3 columns]"
      ]
     },
     "execution_count": 208,
     "metadata": {},
     "output_type": "execute_result"
    }
   ],
   "source": [
    "#creating dataframe\n",
    "df5=pd.DataFrame({'Rating':Rating[:100],'Review Summary':Summary[:100],'FULL_Review':Full_review[:100]})\n",
    "df5"
   ]
  },
  {
   "cell_type": "code",
   "execution_count": 58,
   "id": "9c7726fa",
   "metadata": {},
   "outputs": [],
   "source": [
    "#6.SCRAPE DATA FOR FIRST 100 'SNEAKERS'\n",
    "\n",
    "#opening webpage on automated chrome browser\n",
    "\n",
    "driver = webdriver.Chrome()\n",
    "driver.get(\"https://www.flipkart.com/\")"
   ]
  },
  {
   "cell_type": "code",
   "execution_count": 59,
   "id": "316b2c2a",
   "metadata": {},
   "outputs": [],
   "source": [
    "#Entering 'sneakers' in search field'\n",
    "\n",
    "product=driver.find_element(By.CLASS_NAME,\"Pke_EE\")\n",
    "product.send_keys('sneakers')"
   ]
  },
  {
   "cell_type": "code",
   "execution_count": 60,
   "id": "9ec4011f",
   "metadata": {},
   "outputs": [],
   "source": [
    "#click on search button\n",
    "\n",
    "srch_b1=driver.find_element(By.CLASS_NAME,\"L0Z3Pu\")\n",
    "srch_b1.click()"
   ]
  },
  {
   "cell_type": "code",
   "execution_count": 61,
   "id": "049e26b7",
   "metadata": {},
   "outputs": [],
   "source": [
    "#scraping data from the webpages\n",
    "\n",
    "B_name1=[]\n",
    "start=0\n",
    "end=3\n",
    "for page in range(0,3):\n",
    "    \n",
    "    b_name1 = driver.find_elements(By.XPATH,'//div[@class=\"_2WkVRV\"]')\n",
    "    for i in b_name1:\n",
    "        B_name1.append(i.text)\n",
    "        \n",
    "nxt_btn=driver.find_element(By.XPATH,'//a[@class=\"_1LKTO3\"]')\n",
    "nxt_btn.click()"
   ]
  },
  {
   "cell_type": "code",
   "execution_count": 64,
   "id": "9b5f2a1b",
   "metadata": {},
   "outputs": [],
   "source": [
    "P_desc1=[]\n",
    "start=0\n",
    "end=3\n",
    "for page in range(0,3):\n",
    "    \n",
    "    p_desc1 = driver.find_elements(By.XPATH,'//a[@class=\"IRpwTa\"]')\n",
    "    for i in p_desc1:\n",
    "        P_desc1.append(i.text)\n",
    "        \n",
    "nxt_btn=driver.find_element(By.XPATH,'//a[@class=\"_1LKTO3\"]')\n",
    "nxt_btn.click()"
   ]
  },
  {
   "cell_type": "code",
   "execution_count": 62,
   "id": "45d88fb9",
   "metadata": {},
   "outputs": [],
   "source": [
    "Price1=[]\n",
    "start=0\n",
    "end=3\n",
    "for page in range(0,3):\n",
    "    \n",
    "    price1 = driver.find_elements(By.XPATH,'//div[@class=\"_30jeq3\"]')\n",
    "    for i in price1:\n",
    "        Price1.append(i.text)\n",
    "        \n",
    "nxt_btn=driver.find_element(By.XPATH,'//a[@class=\"_1LKTO3\"]')\n",
    "nxt_btn.click()"
   ]
  },
  {
   "cell_type": "code",
   "execution_count": 65,
   "id": "cd17c781",
   "metadata": {},
   "outputs": [
    {
     "name": "stdout",
     "output_type": "stream",
     "text": [
      "100\n",
      "100\n",
      "100\n"
     ]
    },
    {
     "data": {
      "text/plain": [
       "(None, None, None)"
      ]
     },
     "execution_count": 65,
     "metadata": {},
     "output_type": "execute_result"
    }
   ],
   "source": [
    "print(len(B_name1[:100])),print(len(Price1[:100])),print(len(P_desc1[:100]))"
   ]
  },
  {
   "cell_type": "code",
   "execution_count": 66,
   "id": "0e0f0928",
   "metadata": {},
   "outputs": [
    {
     "data": {
      "text/html": [
       "<div>\n",
       "<style scoped>\n",
       "    .dataframe tbody tr th:only-of-type {\n",
       "        vertical-align: middle;\n",
       "    }\n",
       "\n",
       "    .dataframe tbody tr th {\n",
       "        vertical-align: top;\n",
       "    }\n",
       "\n",
       "    .dataframe thead th {\n",
       "        text-align: right;\n",
       "    }\n",
       "</style>\n",
       "<table border=\"1\" class=\"dataframe\">\n",
       "  <thead>\n",
       "    <tr style=\"text-align: right;\">\n",
       "      <th></th>\n",
       "      <th>Brand</th>\n",
       "      <th>Price</th>\n",
       "      <th>Prodcut_description</th>\n",
       "    </tr>\n",
       "  </thead>\n",
       "  <tbody>\n",
       "    <tr>\n",
       "      <th>0</th>\n",
       "      <td>MEGPAR</td>\n",
       "      <td>₹399</td>\n",
       "      <td>VZAZZY White Casual Trendy Daily use Comfortab...</td>\n",
       "    </tr>\n",
       "    <tr>\n",
       "      <th>1</th>\n",
       "      <td>VZAZZY</td>\n",
       "      <td>₹498</td>\n",
       "      <td>Thunder-01 White Color Change Sneakers,Casuals...</td>\n",
       "    </tr>\n",
       "    <tr>\n",
       "      <th>2</th>\n",
       "      <td>asian</td>\n",
       "      <td>₹1,679</td>\n",
       "      <td>Sneakers For Women</td>\n",
       "    </tr>\n",
       "    <tr>\n",
       "      <th>3</th>\n",
       "      <td>Deals4you</td>\n",
       "      <td>₹428</td>\n",
       "      <td>Tarzan-04 White Sneakers,Casuals,Loafers,Styli...</td>\n",
       "    </tr>\n",
       "    <tr>\n",
       "      <th>4</th>\n",
       "      <td>asian</td>\n",
       "      <td>₹599</td>\n",
       "      <td>SM-671 Sneakers For Men</td>\n",
       "    </tr>\n",
       "    <tr>\n",
       "      <th>...</th>\n",
       "      <td>...</td>\n",
       "      <td>...</td>\n",
       "      <td>...</td>\n",
       "    </tr>\n",
       "    <tr>\n",
       "      <th>95</th>\n",
       "      <td>asian</td>\n",
       "      <td>₹539</td>\n",
       "      <td>Sneakers For Men</td>\n",
       "    </tr>\n",
       "    <tr>\n",
       "      <th>96</th>\n",
       "      <td>Layasa</td>\n",
       "      <td>₹399</td>\n",
       "      <td>Tarzan-21 White Color Changing Sneakers,Loafer...</td>\n",
       "    </tr>\n",
       "    <tr>\n",
       "      <th>97</th>\n",
       "      <td>RapidBox</td>\n",
       "      <td>₹549</td>\n",
       "      <td>X-Ray Sneakers For Men</td>\n",
       "    </tr>\n",
       "    <tr>\n",
       "      <th>98</th>\n",
       "      <td>Free Kicks</td>\n",
       "      <td>₹1,175</td>\n",
       "      <td>Sneakers For Men</td>\n",
       "    </tr>\n",
       "    <tr>\n",
       "      <th>99</th>\n",
       "      <td>HRX by Hrithik Roshan</td>\n",
       "      <td>₹879</td>\n",
       "      <td>Casual Sneaker Shoes For Men | Comfortable, Br...</td>\n",
       "    </tr>\n",
       "  </tbody>\n",
       "</table>\n",
       "<p>100 rows × 3 columns</p>\n",
       "</div>"
      ],
      "text/plain": [
       "                    Brand   Price  \\\n",
       "0                  MEGPAR    ₹399   \n",
       "1                  VZAZZY    ₹498   \n",
       "2                   asian  ₹1,679   \n",
       "3               Deals4you    ₹428   \n",
       "4                   asian    ₹599   \n",
       "..                    ...     ...   \n",
       "95                  asian    ₹539   \n",
       "96                 Layasa    ₹399   \n",
       "97               RapidBox    ₹549   \n",
       "98             Free Kicks  ₹1,175   \n",
       "99  HRX by Hrithik Roshan    ₹879   \n",
       "\n",
       "                                  Prodcut_description  \n",
       "0   VZAZZY White Casual Trendy Daily use Comfortab...  \n",
       "1   Thunder-01 White Color Change Sneakers,Casuals...  \n",
       "2                                  Sneakers For Women  \n",
       "3   Tarzan-04 White Sneakers,Casuals,Loafers,Styli...  \n",
       "4                             SM-671 Sneakers For Men  \n",
       "..                                                ...  \n",
       "95                                   Sneakers For Men  \n",
       "96  Tarzan-21 White Color Changing Sneakers,Loafer...  \n",
       "97                             X-Ray Sneakers For Men  \n",
       "98                                   Sneakers For Men  \n",
       "99  Casual Sneaker Shoes For Men | Comfortable, Br...  \n",
       "\n",
       "[100 rows x 3 columns]"
      ]
     },
     "execution_count": 66,
     "metadata": {},
     "output_type": "execute_result"
    }
   ],
   "source": [
    "#creating dataframe\n",
    "\n",
    "df4=pd.DataFrame({'Brand':B_name1[:100],'Price':Price1[:100],'Prodcut_description':P_desc1[:100]})\n",
    "df4"
   ]
  },
  {
   "cell_type": "code",
   "execution_count": 67,
   "id": "7ec8a543",
   "metadata": {},
   "outputs": [],
   "source": [
    "#7. A PYTHON PROGRAM TO SCCRAP DATA FROM AMAZON\n",
    "\n",
    "#opening webpage\n",
    "\n",
    "driver=webdriver.Chrome()\n",
    "driver.get(\"https://www.amazon.in/\")"
   ]
  },
  {
   "cell_type": "code",
   "execution_count": 41,
   "id": "5143a973",
   "metadata": {},
   "outputs": [
    {
     "data": {
      "text/plain": [
       "<Response [200]>"
      ]
     },
     "execution_count": 41,
     "metadata": {},
     "output_type": "execute_result"
    }
   ],
   "source": [
    "import requests\n",
    "page=requests.get(\"https://www.amazon.in/\")\n",
    "page"
   ]
  },
  {
   "cell_type": "code",
   "execution_count": 68,
   "id": "1c580d16",
   "metadata": {},
   "outputs": [],
   "source": [
    "#entering'laptop' in search box\n",
    "name=driver.find_element(By.ID,\"twotabsearchtextbox\")\n",
    "name.send_keys('laptop')"
   ]
  },
  {
   "cell_type": "code",
   "execution_count": 69,
   "id": "abcbb351",
   "metadata": {},
   "outputs": [],
   "source": [
    "#clicking on search button\n",
    "srch10=driver.find_element(By.ID,\"nav-search-submit-button\")\n",
    "srch10.click()"
   ]
  },
  {
   "cell_type": "code",
   "execution_count": 70,
   "id": "e661ac63",
   "metadata": {},
   "outputs": [],
   "source": [
    "#selecting intel core i7\n",
    "srch20=driver.find_element(By.XPATH,\"/html/body/div[1]/div[2]/div[1]/div[2]/div/div[3]/span/div[1]/div/div/div[6]/ul[6]/span[11]/li/span/a/span\")\n",
    "srch20.click()"
   ]
  },
  {
   "cell_type": "code",
   "execution_count": 71,
   "id": "816963eb",
   "metadata": {},
   "outputs": [
    {
     "data": {
      "text/plain": [
       "['MSI GF63 Thin, Intel Core i7-11800H, 40CM FHD 144Hz Gaming Laptop (16GB/512GB NVMe SSD/Windows 11 Home/Nvidia GeForce RTX 3050, GDDR6 4GB/Black/1.8Kg), 11UC-1293IN',\n",
       " 'ASUS Vivobook 15, Intel Core i7-12650H 12th Gen, 15.6\" (39.62 cm) FHD, Thin and Light Laptop (16GB/512GB/Win11/Office 2021/Blue/1.7 kg), X1502ZA-EJ741WS',\n",
       " 'Dell Inspiron 5430 Laptop, Intel Core i7-1360P Processor/ 16GB/ 1TB SSD/14.0\" (35.56cm) FHD+ WVA AG with Comfortview 250 nits/Backlit KB + FPR/Win 11 + MSO\\'21/15 Month McAfee/Platinum Silver/ 1.59kg',\n",
       " 'MSI GF63 Thin, Intel Core i7-11800H, 40CM FHD 144Hz Gaming Laptop (16GB/512GB NVMe SSD/Windows 11 Home/Nvidia GeForce GTX 1650, GDDR6 4GB/Black/1.8Kg), 11SC-1462IN',\n",
       " 'HP Victus Gaming Laptop, 12th Gen Intel Core i7-12650H, NVIDIA RTX 3050 GPU, 15.6-inch (39.6 cm), FHD, IPS, 144Hz, 9 ms Response time, 16GB DDR4, 512GB SSD, Backlit KB (MSO, Blue, 2.29 kg), fa0188TX',\n",
       " 'ASUS TUF Gaming F15, 15.6\"(39.62 cms) FHD 144Hz, Intel Core i7-11800H 11th Gen, 4GB NVIDIA GeForce RTX 3050 Ti, Gaming Laptop (16GB/512GB SSD/Windows 11/90WHrs Battery/Black/2.30 Kg), FX506HE-HN382W',\n",
       " 'HP Laptop 15s, 12th Gen Intel Core i7-1255U, 15.6-inch (39.6 cm), FHD, 16GB DDR4, 512GB SSD, Intel Iris Xe Graphics, Backlit KB, Thin & Light (Win 11, MSO 2021, Silver, 1.69 kg), fq5190TU',\n",
       " 'MSI Thin GF63, Intel 12th Gen. i7-12650H, 40CM FHD 144Hz Gaming Laptop (16GB/512GB NVMe SSD/Windows 11 Home/Nvidia GeForce RTX 4050, GDDR6 6GB/Black/1.86Kg), A12VE-070IN',\n",
       " 'Lenovo [SmartChoice IdeaPad Slim 3 Intel Core i7 11th Gen 15.6\" (39.62cm) FHD Laptop (16GB/512GB SSD/Win 11/Office 2021/1 Year Warranty/Arctic Grey/1.65Kg), 82H803LNIN',\n",
       " 'Lenovo ThinkPad E14 Intel Core i7 12th Gen 14\" FHD IPS Thin and Light Laptop (16GB RAM/1TB SSD/Windows 11 Home/MS Office H&S 2021/Backlit Keybaord/FPR/Black/1.59 kg), 21E3S05800']"
      ]
     },
     "execution_count": 71,
     "metadata": {},
     "output_type": "execute_result"
    }
   ],
   "source": [
    "#scraping the required data\n",
    "\n",
    "Laptop=[]\n",
    "\n",
    "laptop=driver.find_elements(By.XPATH,'//span[@class=\"a-size-medium a-color-base a-text-normal\"]')\n",
    "\n",
    "for i in laptop:\n",
    "    if i.text is None:\n",
    "        Laptop.append('Not')\n",
    "    else:\n",
    "        Laptop.append(i.text)\n",
    "\n",
    "Laptop[:10]"
   ]
  },
  {
   "cell_type": "code",
   "execution_count": 76,
   "id": "342753af",
   "metadata": {},
   "outputs": [
    {
     "data": {
      "text/plain": [
       "['4.2',\n",
       " '4.0',\n",
       " '3.3',\n",
       " '4.3',\n",
       " '4.7',\n",
       " '4.1',\n",
       " '3.5',\n",
       " '3.8',\n",
       " '3.5',\n",
       " '3.6',\n",
       " '3.8',\n",
       " '4.5',\n",
       " '4.0',\n",
       " '4.5',\n",
       " '4.4',\n",
       " '4.7',\n",
       " '4.0',\n",
       " '2.0',\n",
       " '4.2',\n",
       " '3.9',\n",
       " '4.0',\n",
       " '3.5',\n",
       " '3.6',\n",
       " '4.4']"
      ]
     },
     "execution_count": 76,
     "metadata": {},
     "output_type": "execute_result"
    }
   ],
   "source": [
    "Rating=[]\n",
    "\n",
    "rating = driver.find_elements(By.XPATH,'//span[@class=\"a-size-base puis-bold-weight-text\"]')\n",
    "rating\n",
    "\n",
    "for i in rating:\n",
    "    if i.text is None:\n",
    "        Rating.append('Not')\n",
    "    else:\n",
    "        Rating.append(i.text)\n",
    "Rating\n"
   ]
  },
  {
   "cell_type": "code",
   "execution_count": 78,
   "id": "d1367954",
   "metadata": {},
   "outputs": [
    {
     "data": {
      "text/plain": [
       "['₹66,990',\n",
       " '₹64,990',\n",
       " '₹86,490',\n",
       " '₹59,990',\n",
       " '₹84,990',\n",
       " '₹80,990',\n",
       " '₹68,990',\n",
       " '₹92,990',\n",
       " '₹62,500',\n",
       " '₹98,990',\n",
       " '₹88,490',\n",
       " '₹89,990',\n",
       " '₹1,08,992',\n",
       " '₹1,15,990',\n",
       " '₹54,990',\n",
       " '₹84,990',\n",
       " '₹91,443',\n",
       " '₹85,990',\n",
       " '₹1,14,490',\n",
       " '₹86,680',\n",
       " '₹79,990',\n",
       " '₹89,990',\n",
       " '₹82,765',\n",
       " '₹99,999']"
      ]
     },
     "execution_count": 78,
     "metadata": {},
     "output_type": "execute_result"
    }
   ],
   "source": [
    "Pricee=[]\n",
    "\n",
    "pricee = driver.find_elements(By.XPATH,'//span[@class=\"a-price\"]')\n",
    "pricee\n",
    "\n",
    "for i in pricee:\n",
    "    if i.text is None:\n",
    "        Pricee.append('Not')\n",
    "    else:\n",
    "        Pricee.append(i.text)\n",
    "Pricee\n"
   ]
  },
  {
   "cell_type": "code",
   "execution_count": 79,
   "id": "3401ff9c",
   "metadata": {},
   "outputs": [
    {
     "data": {
      "text/html": [
       "<div>\n",
       "<style scoped>\n",
       "    .dataframe tbody tr th:only-of-type {\n",
       "        vertical-align: middle;\n",
       "    }\n",
       "\n",
       "    .dataframe tbody tr th {\n",
       "        vertical-align: top;\n",
       "    }\n",
       "\n",
       "    .dataframe thead th {\n",
       "        text-align: right;\n",
       "    }\n",
       "</style>\n",
       "<table border=\"1\" class=\"dataframe\">\n",
       "  <thead>\n",
       "    <tr style=\"text-align: right;\">\n",
       "      <th></th>\n",
       "      <th>Title</th>\n",
       "      <th>Ratings</th>\n",
       "      <th>Price</th>\n",
       "    </tr>\n",
       "  </thead>\n",
       "  <tbody>\n",
       "    <tr>\n",
       "      <th>0</th>\n",
       "      <td>MSI GF63 Thin, Intel Core i7-11800H, 40CM FHD ...</td>\n",
       "      <td>4.2</td>\n",
       "      <td>₹66,990</td>\n",
       "    </tr>\n",
       "    <tr>\n",
       "      <th>1</th>\n",
       "      <td>ASUS Vivobook 15, Intel Core i7-12650H 12th Ge...</td>\n",
       "      <td>4.0</td>\n",
       "      <td>₹64,990</td>\n",
       "    </tr>\n",
       "    <tr>\n",
       "      <th>2</th>\n",
       "      <td>Dell Inspiron 5430 Laptop, Intel Core i7-1360P...</td>\n",
       "      <td>3.3</td>\n",
       "      <td>₹86,490</td>\n",
       "    </tr>\n",
       "    <tr>\n",
       "      <th>3</th>\n",
       "      <td>MSI GF63 Thin, Intel Core i7-11800H, 40CM FHD ...</td>\n",
       "      <td>4.3</td>\n",
       "      <td>₹59,990</td>\n",
       "    </tr>\n",
       "    <tr>\n",
       "      <th>4</th>\n",
       "      <td>HP Victus Gaming Laptop, 12th Gen Intel Core i...</td>\n",
       "      <td>4.7</td>\n",
       "      <td>₹84,990</td>\n",
       "    </tr>\n",
       "    <tr>\n",
       "      <th>5</th>\n",
       "      <td>ASUS TUF Gaming F15, 15.6\"(39.62 cms) FHD 144H...</td>\n",
       "      <td>4.1</td>\n",
       "      <td>₹80,990</td>\n",
       "    </tr>\n",
       "    <tr>\n",
       "      <th>6</th>\n",
       "      <td>HP Laptop 15s, 12th Gen Intel Core i7-1255U, 1...</td>\n",
       "      <td>3.5</td>\n",
       "      <td>₹68,990</td>\n",
       "    </tr>\n",
       "    <tr>\n",
       "      <th>7</th>\n",
       "      <td>MSI Thin GF63, Intel 12th Gen. i7-12650H, 40CM...</td>\n",
       "      <td>3.8</td>\n",
       "      <td>₹92,990</td>\n",
       "    </tr>\n",
       "    <tr>\n",
       "      <th>8</th>\n",
       "      <td>Lenovo [SmartChoice IdeaPad Slim 3 Intel Core ...</td>\n",
       "      <td>3.5</td>\n",
       "      <td>₹62,500</td>\n",
       "    </tr>\n",
       "    <tr>\n",
       "      <th>9</th>\n",
       "      <td>Lenovo ThinkPad E14 Intel Core i7 12th Gen 14\"...</td>\n",
       "      <td>3.6</td>\n",
       "      <td>₹98,990</td>\n",
       "    </tr>\n",
       "  </tbody>\n",
       "</table>\n",
       "</div>"
      ],
      "text/plain": [
       "                                               Title Ratings    Price\n",
       "0  MSI GF63 Thin, Intel Core i7-11800H, 40CM FHD ...     4.2  ₹66,990\n",
       "1  ASUS Vivobook 15, Intel Core i7-12650H 12th Ge...     4.0  ₹64,990\n",
       "2  Dell Inspiron 5430 Laptop, Intel Core i7-1360P...     3.3  ₹86,490\n",
       "3  MSI GF63 Thin, Intel Core i7-11800H, 40CM FHD ...     4.3  ₹59,990\n",
       "4  HP Victus Gaming Laptop, 12th Gen Intel Core i...     4.7  ₹84,990\n",
       "5  ASUS TUF Gaming F15, 15.6\"(39.62 cms) FHD 144H...     4.1  ₹80,990\n",
       "6  HP Laptop 15s, 12th Gen Intel Core i7-1255U, 1...     3.5  ₹68,990\n",
       "7  MSI Thin GF63, Intel 12th Gen. i7-12650H, 40CM...     3.8  ₹92,990\n",
       "8  Lenovo [SmartChoice IdeaPad Slim 3 Intel Core ...     3.5  ₹62,500\n",
       "9  Lenovo ThinkPad E14 Intel Core i7 12th Gen 14\"...     3.6  ₹98,990"
      ]
     },
     "execution_count": 79,
     "metadata": {},
     "output_type": "execute_result"
    }
   ],
   "source": [
    "#creating dataframe\n",
    "\n",
    "laptops=pd.DataFrame({'Title':Laptop[:10],'Ratings':Rating[:10],'Price':Pricee[:10]})\n",
    "laptops"
   ]
  },
  {
   "cell_type": "code",
   "execution_count": 82,
   "id": "3972fee3",
   "metadata": {},
   "outputs": [],
   "source": [
    "#8. A PYTHON PROGRAM TO SCRAPE DATA FOR TOP 1000 QUOTES OF ALL TIME\n",
    "\n",
    "#opening webpage on automated chrome browser\n",
    "\n",
    "\n",
    "driver=webdriver.Chrome()\n",
    "driver.get(\"https://www.azquotes.com/\")\n",
    "\n",
    "#site cant be reached"
   ]
  },
  {
   "cell_type": "code",
   "execution_count": null,
   "id": "2ce3aba5",
   "metadata": {},
   "outputs": [],
   "source": []
  },
  {
   "cell_type": "code",
   "execution_count": null,
   "id": "394bc120",
   "metadata": {},
   "outputs": [],
   "source": []
  },
  {
   "cell_type": "code",
   "execution_count": null,
   "id": "5bc51789",
   "metadata": {},
   "outputs": [],
   "source": []
  },
  {
   "cell_type": "code",
   "execution_count": null,
   "id": "c7548981",
   "metadata": {},
   "outputs": [],
   "source": []
  },
  {
   "cell_type": "code",
   "execution_count": null,
   "id": "98530882",
   "metadata": {},
   "outputs": [],
   "source": []
  },
  {
   "cell_type": "code",
   "execution_count": 11,
   "id": "da0c0aff",
   "metadata": {},
   "outputs": [],
   "source": [
    "#9. A PYTHON PROGRAM TO SCRAPE DATA and DISPLAY LIST OF RESPECTED FORMER PRIME MINISTERS OF INDIA\n",
    "\n",
    "#opening webpage on automated chrome browser\n",
    "\n",
    "driver= webdriver.Chrome()\n",
    "driver.get(\"https://www.jagranjosh.com/\")"
   ]
  },
  {
   "cell_type": "code",
   "execution_count": 42,
   "id": "fa0f833c",
   "metadata": {},
   "outputs": [
    {
     "data": {
      "text/plain": [
       "<Response [200]>"
      ]
     },
     "execution_count": 42,
     "metadata": {},
     "output_type": "execute_result"
    }
   ],
   "source": [
    "page1=requests.get(\"https://www.jagranjosh.com/\")\n",
    "page1"
   ]
  },
  {
   "cell_type": "code",
   "execution_count": 12,
   "id": "f91c2e39",
   "metadata": {},
   "outputs": [],
   "source": [
    "#opening 'gk' option using url\n",
    "\n",
    "url=\"https://www.jagranjosh.com/general-knowledge\"\n",
    "driver.get(url)"
   ]
  },
  {
   "cell_type": "code",
   "execution_count": 16,
   "id": "b2fb9127",
   "metadata": {},
   "outputs": [],
   "source": [
    "#selecting india gk\n",
    "\n",
    "srch=driver.find_element(By.XPATH,'/html/body/div[1]/div/div/div[2]/div/div[5]/div/div/ul/li[6]/a')\n",
    "srch.click()"
   ]
  },
  {
   "cell_type": "code",
   "execution_count": 17,
   "id": "f30370fd",
   "metadata": {},
   "outputs": [],
   "source": [
    "#clicking on list of prime ministers\n",
    "srch1=driver.find_element(By.XPATH,'/html/body/div[1]/div/div/div[2]/div/div[14]/div/div/ul/li[5]/a')\n",
    "srch1.click()"
   ]
  },
  {
   "cell_type": "code",
   "execution_count": 18,
   "id": "1d0a538a",
   "metadata": {},
   "outputs": [
    {
     "data": {
      "text/plain": [
       "[]"
      ]
     },
     "execution_count": 18,
     "metadata": {},
     "output_type": "execute_result"
    }
   ],
   "source": [
    "#scraping data\n",
    "\n",
    "prime_m=driver.find_elements(By.XPATH,'//div[@class=\"table-box\"]')\n",
    "prime_m\n",
    "\n"
   ]
  },
  {
   "cell_type": "code",
   "execution_count": 48,
   "id": "7db8bc69",
   "metadata": {},
   "outputs": [],
   "source": [
    "#10. A PYTHON PROGRAM TO DISPLAY EXPENSIVE CARS\n",
    "\n",
    "driver= webdriver.Chrome()\n",
    "driver.get(\"https://www.motor1.com/\")"
   ]
  },
  {
   "cell_type": "code",
   "execution_count": 49,
   "id": "84f4d212",
   "metadata": {},
   "outputs": [],
   "source": [
    "ecars = driver.find_element(By.XPATH,\"/html/body/div[10]/div[2]/div/div/div[3]/div/div/div/form/input\")\n",
    "ecars.send_keys('50 most expensive cars in the world')"
   ]
  },
  {
   "cell_type": "code",
   "execution_count": null,
   "id": "32b46705",
   "metadata": {},
   "outputs": [],
   "source": [
    "srch=driver.find_element(By.XPATH,'/html/body/div[10]/div[2]/div/div/div[3]/div/div/div/form/button[1]/svg')\n",
    "srch.click()"
   ]
  },
  {
   "cell_type": "code",
   "execution_count": 57,
   "id": "c9812133",
   "metadata": {},
   "outputs": [
    {
     "data": {
      "text/plain": [
       "[]"
      ]
     },
     "execution_count": 57,
     "metadata": {},
     "output_type": "execute_result"
    }
   ],
   "source": [
    "Cars=[]\n",
    "\n",
    "cars=driver.find_elements(By.XPATH,'//h3[@class=\"subheader\"]')\n",
    "\n",
    "for i in cars:\n",
    "    if i.text is None:\n",
    "        Cars.append('Not')\n",
    "    else:\n",
    "        Cars.append(i.text)\n",
    "\n",
    "Cars[:50]"
   ]
  },
  {
   "cell_type": "code",
   "execution_count": 45,
   "id": "635e58b3",
   "metadata": {},
   "outputs": [
    {
     "data": {
      "text/plain": [
       "['Price: $1.5 Million',\n",
       " 'Price: $1.7 Million',\n",
       " 'Price: $1.7 Million',\n",
       " 'Price: $1.7 Million',\n",
       " 'Price: $1.7 Million',\n",
       " 'Price: $1.7 Million',\n",
       " 'Price: $1.7 Million',\n",
       " 'Price: $1.8 Million',\n",
       " 'Price: $1.9 Million',\n",
       " 'Price: $1.9 Million',\n",
       " 'Price: $2.0 Million',\n",
       " 'Price: $2.0 Million',\n",
       " 'Price: $2.0 Million',\n",
       " 'Price: $2.1 Million',\n",
       " 'Price: $2.3 Million',\n",
       " 'Price: $2.3 Million',\n",
       " 'Price: $2.3 Million',\n",
       " 'Price: $2.3 Million',\n",
       " 'Price: $2.4 Million',\n",
       " 'Price: $2.5 Million',\n",
       " 'Price: $2.5 Million',\n",
       " 'Price: $2.6 Million',\n",
       " 'Price: $2.6 Million',\n",
       " 'Price: $2.7 Million',\n",
       " 'Price: $2.8 Million',\n",
       " 'Price: $3.0 Million',\n",
       " '$3.0 Million',\n",
       " 'Price: $3.0 Million',\n",
       " 'Price: $3.2 Million',\n",
       " 'Price: $3.4 Million',\n",
       " '$3.5 Million',\n",
       " 'Price: $3.6 million',\n",
       " 'Price: $3.7 Million',\n",
       " 'Price: $3.9 Million',\n",
       " 'Price: $4.5 Million',\n",
       " 'Price: $4.7 Million',\n",
       " 'Price: $4.8 Million',\n",
       " 'Price: $5.0 Million',\n",
       " 'Price: $5.4 Million',\n",
       " 'Price: $5.8 Million',\n",
       " 'Price: $6.4 Million',\n",
       " 'Price: $7.4 Million',\n",
       " 'Price: $7.5 Million',\n",
       " 'Price: $8.0 Million',\n",
       " 'Price: $9.0 Million',\n",
       " 'Price: $10.8 Million',\n",
       " 'Price: $12.8 Million',\n",
       " 'Price: $13.4 Million',\n",
       " 'Price: $28.0 Million (est.)',\n",
       " 'Price: $30 Million (est.)']"
      ]
     },
     "execution_count": 45,
     "metadata": {},
     "output_type": "execute_result"
    }
   ],
   "source": [
    "Pricec=[]\n",
    "\n",
    "pricec=driver.find_elements(By.TAG_NAME,\"strong\")\n",
    "\n",
    "for i in pricec:\n",
    "    if i.text is None:\n",
    "        Pricec.append('Not')\n",
    "    else:\n",
    "        Pricec.append(i.text)\n",
    "        \n",
    "Pricec[:50]"
   ]
  },
  {
   "cell_type": "code",
   "execution_count": 47,
   "id": "42135661",
   "metadata": {},
   "outputs": [
    {
     "data": {
      "text/html": [
       "<div>\n",
       "<style scoped>\n",
       "    .dataframe tbody tr th:only-of-type {\n",
       "        vertical-align: middle;\n",
       "    }\n",
       "\n",
       "    .dataframe tbody tr th {\n",
       "        vertical-align: top;\n",
       "    }\n",
       "\n",
       "    .dataframe thead th {\n",
       "        text-align: right;\n",
       "    }\n",
       "</style>\n",
       "<table border=\"1\" class=\"dataframe\">\n",
       "  <thead>\n",
       "    <tr style=\"text-align: right;\">\n",
       "      <th></th>\n",
       "      <th>50 most expensive cars</th>\n",
       "      <th>Price</th>\n",
       "    </tr>\n",
       "  </thead>\n",
       "  <tbody>\n",
       "    <tr>\n",
       "      <th>0</th>\n",
       "      <td>Aston Martin Valour</td>\n",
       "      <td>Price: $1.5 Million</td>\n",
       "    </tr>\n",
       "    <tr>\n",
       "      <th>1</th>\n",
       "      <td>McLaren Elva</td>\n",
       "      <td>Price: $1.7 Million</td>\n",
       "    </tr>\n",
       "    <tr>\n",
       "      <th>2</th>\n",
       "      <td>Czinger 21C</td>\n",
       "      <td>Price: $1.7 Million</td>\n",
       "    </tr>\n",
       "    <tr>\n",
       "      <th>3</th>\n",
       "      <td>Ferrari Monza</td>\n",
       "      <td>Price: $1.7 Million</td>\n",
       "    </tr>\n",
       "    <tr>\n",
       "      <th>4</th>\n",
       "      <td>Gordon Murray T.33</td>\n",
       "      <td>Price: $1.7 Million</td>\n",
       "    </tr>\n",
       "    <tr>\n",
       "      <th>5</th>\n",
       "      <td>Koenigsegg Gemera</td>\n",
       "      <td>Price: $1.7 Million</td>\n",
       "    </tr>\n",
       "    <tr>\n",
       "      <th>6</th>\n",
       "      <td>Zenvo TSR-S</td>\n",
       "      <td>Price: $1.7 Million</td>\n",
       "    </tr>\n",
       "    <tr>\n",
       "      <th>7</th>\n",
       "      <td>Hennessey Venom F5</td>\n",
       "      <td>Price: $1.8 Million</td>\n",
       "    </tr>\n",
       "    <tr>\n",
       "      <th>8</th>\n",
       "      <td>Bentley Bacalar</td>\n",
       "      <td>Price: $1.9 Million</td>\n",
       "    </tr>\n",
       "    <tr>\n",
       "      <th>9</th>\n",
       "      <td>Hispano Suiza Carmen Boulogne</td>\n",
       "      <td>Price: $1.9 Million</td>\n",
       "    </tr>\n",
       "    <tr>\n",
       "      <th>10</th>\n",
       "      <td>Bentley Mulliner Batur</td>\n",
       "      <td>Price: $2.0 Million</td>\n",
       "    </tr>\n",
       "    <tr>\n",
       "      <th>11</th>\n",
       "      <td>Deus Vayanne</td>\n",
       "      <td>Price: $2.0 Million</td>\n",
       "    </tr>\n",
       "    <tr>\n",
       "      <th>12</th>\n",
       "      <td>SSC Tuatara</td>\n",
       "      <td>Price: $2.0 Million</td>\n",
       "    </tr>\n",
       "    <tr>\n",
       "      <th>13</th>\n",
       "      <td>Lotus Evija</td>\n",
       "      <td>Price: $2.1 Million</td>\n",
       "    </tr>\n",
       "    <tr>\n",
       "      <th>14</th>\n",
       "      <td>Aston Martin Vulcan</td>\n",
       "      <td>Price: $2.3 Million</td>\n",
       "    </tr>\n",
       "    <tr>\n",
       "      <th>15</th>\n",
       "      <td>Delage D12</td>\n",
       "      <td>Price: $2.3 Million</td>\n",
       "    </tr>\n",
       "    <tr>\n",
       "      <th>16</th>\n",
       "      <td>Ferrari Daytona SP3</td>\n",
       "      <td>Price: $2.3 Million</td>\n",
       "    </tr>\n",
       "    <tr>\n",
       "      <th>17</th>\n",
       "      <td>McLaren Speedtail</td>\n",
       "      <td>Price: $2.3 Million</td>\n",
       "    </tr>\n",
       "    <tr>\n",
       "      <th>18</th>\n",
       "      <td>Rimac Nevera</td>\n",
       "      <td>Price: $2.4 Million</td>\n",
       "    </tr>\n",
       "    <tr>\n",
       "      <th>19</th>\n",
       "      <td>Pagani Utopia</td>\n",
       "      <td>Price: $2.5 Million</td>\n",
       "    </tr>\n",
       "    <tr>\n",
       "      <th>20</th>\n",
       "      <td>Pininfarina Battista</td>\n",
       "      <td>Price: $2.5 Million</td>\n",
       "    </tr>\n",
       "    <tr>\n",
       "      <th>21</th>\n",
       "      <td>Gordon Murray T.50</td>\n",
       "      <td>Price: $2.6 Million</td>\n",
       "    </tr>\n",
       "    <tr>\n",
       "      <th>22</th>\n",
       "      <td>Lamborghini Countach</td>\n",
       "      <td>Price: $2.6 Million</td>\n",
       "    </tr>\n",
       "    <tr>\n",
       "      <th>23</th>\n",
       "      <td>Mercedes-AMG Project One</td>\n",
       "      <td>Price: $2.7 Million</td>\n",
       "    </tr>\n",
       "    <tr>\n",
       "      <th>24</th>\n",
       "      <td>Zenvo Aurora</td>\n",
       "      <td>Price: $2.8 Million</td>\n",
       "    </tr>\n",
       "    <tr>\n",
       "      <th>25</th>\n",
       "      <td>Aston Martin Victor</td>\n",
       "      <td>Price: $3.0 Million</td>\n",
       "    </tr>\n",
       "    <tr>\n",
       "      <th>26</th>\n",
       "      <td>Hennessey Venom F5 Roadster</td>\n",
       "      <td>$3.0 Million</td>\n",
       "    </tr>\n",
       "    <tr>\n",
       "      <th>27</th>\n",
       "      <td>Koenigsegg Jesko</td>\n",
       "      <td>Price: $3.0 Million</td>\n",
       "    </tr>\n",
       "    <tr>\n",
       "      <th>28</th>\n",
       "      <td>Aston Martin Valkyrie</td>\n",
       "      <td>Price: $3.2 Million</td>\n",
       "    </tr>\n",
       "    <tr>\n",
       "      <th>29</th>\n",
       "      <td>W Motors Lykan Hypersport</td>\n",
       "      <td>Price: $3.4 Million</td>\n",
       "    </tr>\n",
       "    <tr>\n",
       "      <th>30</th>\n",
       "      <td>McLaren Solus</td>\n",
       "      <td>$3.5 Million</td>\n",
       "    </tr>\n",
       "    <tr>\n",
       "      <th>31</th>\n",
       "      <td>Lamborghini Sian</td>\n",
       "      <td>Price: $3.6 million</td>\n",
       "    </tr>\n",
       "    <tr>\n",
       "      <th>32</th>\n",
       "      <td>Koenigsegg CC850</td>\n",
       "      <td>Price: $3.7 Million</td>\n",
       "    </tr>\n",
       "    <tr>\n",
       "      <th>33</th>\n",
       "      <td>Bugatti Chiron Super Sport 300+</td>\n",
       "      <td>Price: $3.9 Million</td>\n",
       "    </tr>\n",
       "    <tr>\n",
       "      <th>34</th>\n",
       "      <td>Lamborghini Veneno</td>\n",
       "      <td>Price: $4.5 Million</td>\n",
       "    </tr>\n",
       "    <tr>\n",
       "      <th>35</th>\n",
       "      <td>Bugatti Bolide</td>\n",
       "      <td>Price: $4.7 Million</td>\n",
       "    </tr>\n",
       "    <tr>\n",
       "      <th>36</th>\n",
       "      <td>Pininfarina B95 Speedster</td>\n",
       "      <td>Price: $4.8 Million</td>\n",
       "    </tr>\n",
       "    <tr>\n",
       "      <th>37</th>\n",
       "      <td>Bugatti Mistral</td>\n",
       "      <td>Price: $5.0 Million</td>\n",
       "    </tr>\n",
       "    <tr>\n",
       "      <th>38</th>\n",
       "      <td>Pagani Huayra Imola</td>\n",
       "      <td>Price: $5.4 Million</td>\n",
       "    </tr>\n",
       "    <tr>\n",
       "      <th>39</th>\n",
       "      <td>Bugatti Divo</td>\n",
       "      <td>Price: $5.8 Million</td>\n",
       "    </tr>\n",
       "    <tr>\n",
       "      <th>40</th>\n",
       "      <td>SP Automotive Chaos</td>\n",
       "      <td>Price: $6.4 Million</td>\n",
       "    </tr>\n",
       "    <tr>\n",
       "      <th>41</th>\n",
       "      <td>Pagani Codalunga</td>\n",
       "      <td>Price: $7.4 Million</td>\n",
       "    </tr>\n",
       "    <tr>\n",
       "      <th>42</th>\n",
       "      <td>777 Hypercar</td>\n",
       "      <td>Price: $7.5 Million</td>\n",
       "    </tr>\n",
       "    <tr>\n",
       "      <th>43</th>\n",
       "      <td>Mercedes-Maybach Exelero</td>\n",
       "      <td>Price: $8.0 Million</td>\n",
       "    </tr>\n",
       "    <tr>\n",
       "      <th>44</th>\n",
       "      <td>Bugatti Centodieci</td>\n",
       "      <td>Price: $9.0 Million</td>\n",
       "    </tr>\n",
       "    <tr>\n",
       "      <th>45</th>\n",
       "      <td>Bugatti Chiron Profilée</td>\n",
       "      <td>Price: $10.8 Million</td>\n",
       "    </tr>\n",
       "    <tr>\n",
       "      <th>46</th>\n",
       "      <td>Rolls-Royce Sweptail</td>\n",
       "      <td>Price: $12.8 Million</td>\n",
       "    </tr>\n",
       "    <tr>\n",
       "      <th>47</th>\n",
       "      <td>Bugatti La Voiture Noire</td>\n",
       "      <td>Price: $13.4 Million</td>\n",
       "    </tr>\n",
       "    <tr>\n",
       "      <th>48</th>\n",
       "      <td>Rolls-Royce Boat Tail*</td>\n",
       "      <td>Price: $28.0 Million (est.)</td>\n",
       "    </tr>\n",
       "    <tr>\n",
       "      <th>49</th>\n",
       "      <td>Rolls-Royce La Rose Noire Droptail</td>\n",
       "      <td>Price: $30 Million (est.)</td>\n",
       "    </tr>\n",
       "  </tbody>\n",
       "</table>\n",
       "</div>"
      ],
      "text/plain": [
       "                50 most expensive cars                        Price\n",
       "0                  Aston Martin Valour          Price: $1.5 Million\n",
       "1                         McLaren Elva          Price: $1.7 Million\n",
       "2                          Czinger 21C          Price: $1.7 Million\n",
       "3                        Ferrari Monza          Price: $1.7 Million\n",
       "4                   Gordon Murray T.33          Price: $1.7 Million\n",
       "5                    Koenigsegg Gemera          Price: $1.7 Million\n",
       "6                          Zenvo TSR-S          Price: $1.7 Million\n",
       "7                   Hennessey Venom F5          Price: $1.8 Million\n",
       "8                      Bentley Bacalar          Price: $1.9 Million\n",
       "9        Hispano Suiza Carmen Boulogne          Price: $1.9 Million\n",
       "10              Bentley Mulliner Batur          Price: $2.0 Million\n",
       "11                        Deus Vayanne          Price: $2.0 Million\n",
       "12                         SSC Tuatara          Price: $2.0 Million\n",
       "13                         Lotus Evija          Price: $2.1 Million\n",
       "14                 Aston Martin Vulcan          Price: $2.3 Million\n",
       "15                          Delage D12          Price: $2.3 Million\n",
       "16                 Ferrari Daytona SP3          Price: $2.3 Million\n",
       "17                   McLaren Speedtail          Price: $2.3 Million\n",
       "18                        Rimac Nevera          Price: $2.4 Million\n",
       "19                       Pagani Utopia          Price: $2.5 Million\n",
       "20                Pininfarina Battista          Price: $2.5 Million\n",
       "21                  Gordon Murray T.50          Price: $2.6 Million\n",
       "22                Lamborghini Countach          Price: $2.6 Million\n",
       "23            Mercedes-AMG Project One          Price: $2.7 Million\n",
       "24                        Zenvo Aurora          Price: $2.8 Million\n",
       "25                 Aston Martin Victor          Price: $3.0 Million\n",
       "26         Hennessey Venom F5 Roadster                 $3.0 Million\n",
       "27                    Koenigsegg Jesko          Price: $3.0 Million\n",
       "28               Aston Martin Valkyrie          Price: $3.2 Million\n",
       "29           W Motors Lykan Hypersport          Price: $3.4 Million\n",
       "30                       McLaren Solus                 $3.5 Million\n",
       "31                    Lamborghini Sian          Price: $3.6 million\n",
       "32                    Koenigsegg CC850          Price: $3.7 Million\n",
       "33     Bugatti Chiron Super Sport 300+          Price: $3.9 Million\n",
       "34                  Lamborghini Veneno          Price: $4.5 Million\n",
       "35                      Bugatti Bolide          Price: $4.7 Million\n",
       "36           Pininfarina B95 Speedster          Price: $4.8 Million\n",
       "37                     Bugatti Mistral          Price: $5.0 Million\n",
       "38                 Pagani Huayra Imola          Price: $5.4 Million\n",
       "39                        Bugatti Divo          Price: $5.8 Million\n",
       "40                 SP Automotive Chaos          Price: $6.4 Million\n",
       "41                    Pagani Codalunga          Price: $7.4 Million\n",
       "42                        777 Hypercar          Price: $7.5 Million\n",
       "43            Mercedes-Maybach Exelero          Price: $8.0 Million\n",
       "44                  Bugatti Centodieci          Price: $9.0 Million\n",
       "45             Bugatti Chiron Profilée         Price: $10.8 Million\n",
       "46                Rolls-Royce Sweptail         Price: $12.8 Million\n",
       "47            Bugatti La Voiture Noire         Price: $13.4 Million\n",
       "48              Rolls-Royce Boat Tail*  Price: $28.0 Million (est.)\n",
       "49  Rolls-Royce La Rose Noire Droptail    Price: $30 Million (est.)"
      ]
     },
     "execution_count": 47,
     "metadata": {},
     "output_type": "execute_result"
    }
   ],
   "source": [
    "cars=pd.DataFrame({'50 most expensive cars':Cars[:50],'Price':Pricec[:50]})\n",
    "cars"
   ]
  },
  {
   "cell_type": "code",
   "execution_count": null,
   "id": "e813b52f",
   "metadata": {},
   "outputs": [],
   "source": []
  },
  {
   "cell_type": "code",
   "execution_count": null,
   "id": "d574f102",
   "metadata": {},
   "outputs": [],
   "source": []
  }
 ],
 "metadata": {
  "kernelspec": {
   "display_name": "Python 3 (ipykernel)",
   "language": "python",
   "name": "python3"
  },
  "language_info": {
   "codemirror_mode": {
    "name": "ipython",
    "version": 3
   },
   "file_extension": ".py",
   "mimetype": "text/x-python",
   "name": "python",
   "nbconvert_exporter": "python",
   "pygments_lexer": "ipython3",
   "version": "3.10.9"
  }
 },
 "nbformat": 4,
 "nbformat_minor": 5
}
